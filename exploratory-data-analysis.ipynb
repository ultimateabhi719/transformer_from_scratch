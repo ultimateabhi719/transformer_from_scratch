{
 "cells": [
  {
   "cell_type": "markdown",
   "id": "2754098e-4b89-4fe8-87fb-124e2a249e1b",
   "metadata": {},
   "source": [
    "https://analyticsindiamag.com/top-nlp-libraries-datasets-for-indian-languages/\n",
    "\n",
    "https://lotus.kuee.kyoto-u.ac.jp/WAT/indic-multilingual/index.html"
   ]
  },
  {
   "cell_type": "code",
   "execution_count": 46,
   "id": "88663c4f-3953-4ebe-b4c4-b6eef9dd9bbd",
   "metadata": {
    "tags": []
   },
   "outputs": [],
   "source": [
    "from IPython.core.interactiveshell import InteractiveShell\n",
    "\n",
    "InteractiveShell.ast_node_interactivity = \"all\""
   ]
  },
  {
   "cell_type": "code",
   "execution_count": 194,
   "id": "2d3aaedf-b204-4c2a-a7ce-054e07556ce9",
   "metadata": {
    "tags": []
   },
   "outputs": [],
   "source": [
    "import os\n",
    "import sys\n",
    "sys.path.append('src')\n",
    "import matplotlib.pyplot as plt\n",
    "\n",
    "import pandas as pd\n",
    "import numpy as np\n",
    "from sklearn.model_selection import train_test_split\n",
    "\n",
    "import datasets\n",
    "from datasets import Dataset, DatasetDict\n",
    "from datasets import load_from_disk, load_dataset\n",
    "\n",
    "import pytorch_transformer as pt\n",
    "%matplotlib inline"
   ]
  },
  {
   "cell_type": "markdown",
   "id": "881b2dde-4f8a-4168-8272-6dd596a73082",
   "metadata": {},
   "source": [
    "# Check Available Dataset Sizes"
   ]
  },
  {
   "cell_type": "code",
   "execution_count": 36,
   "id": "83b63946-f964-4378-8afc-cd99ed5107b6",
   "metadata": {
    "tags": []
   },
   "outputs": [],
   "source": [
    "data_path = 'data/finalrepo/train'"
   ]
  },
  {
   "cell_type": "code",
   "execution_count": 38,
   "id": "fbbc7a7c-90f0-48e5-9300-35be1fa58747",
   "metadata": {
    "tags": []
   },
   "outputs": [
    {
     "name": "stdout",
     "output_type": "stream",
     "text": [
      "    20106 data/finalrepo/train/alt/en-hi/train.en\n",
      "    20106 data/finalrepo/train/alt/en-hi/train.hi\n",
      "    46759 data/finalrepo/train/ted2020/en-hi/train.en\n",
      "    46759 data/finalrepo/train/ted2020/en-hi/train.hi\n",
      "    50349 data/finalrepo/train/pmi/en-hi/train.en\n",
      "    50349 data/finalrepo/train/pmi/en-hi/train.hi\n",
      "    62073 data/finalrepo/train/bibleuedin/en-hi/train.en\n",
      "    62073 data/finalrepo/train/bibleuedin/en-hi/train.hi\n",
      "    92319 data/finalrepo/train/opensubtitles/en-hi/train.en\n",
      "    92319 data/finalrepo/train/opensubtitles/en-hi/train.hi\n",
      "   187080 data/finalrepo/train/tanzil/en-hi/train.en\n",
      "   187080 data/finalrepo/train/tanzil/en-hi/train.hi\n",
      "   231459 data/finalrepo/train/wikimatrix/en-hi/train.en\n",
      "   231459 data/finalrepo/train/wikimatrix/en-hi/train.hi\n",
      "   266545 data/finalrepo/train/cvit-pib/en-hi/train.en\n",
      "   266545 data/finalrepo/train/cvit-pib/en-hi/train.hi\n",
      "   509594 data/finalrepo/train/jw/en-hi/train.en\n",
      "   509594 data/finalrepo/train/jw/en-hi/train.hi\n",
      "  1603080 data/finalrepo/train/iitb/en-hi/train.en\n",
      "  1603080 data/finalrepo/train/iitb/en-hi/train.hi\n",
      "  6138728 total\n"
     ]
    }
   ],
   "source": [
    "!wc -l $data_path/*/en-hi/train.* | sort"
   ]
  },
  {
   "cell_type": "markdown",
   "id": "6345e583-934f-4ab7-97ea-d4c9307d46bd",
   "metadata": {},
   "source": [
    "# Choose a Dataset and Convert to HuggingFace Dataset object\n",
    "\n",
    "Note we didn't choode iitb or jw because of bad quality"
   ]
  },
  {
   "cell_type": "code",
   "execution_count": 25,
   "id": "f4311793-e325-4bb1-bda9-0deae549038e",
   "metadata": {
    "tags": []
   },
   "outputs": [],
   "source": [
    "dataset = os.path.join(data_path,'cvit-pib/en-hi')\n",
    "df = pd.DataFrame({'hi': [line.strip() for line in open(os.path.join(dataset,'train.hi'))], \n",
    "                   'en': [line.strip() for line in open(os.path.join(dataset,'train.en'))]})"
   ]
  },
  {
   "cell_type": "code",
   "execution_count": 47,
   "id": "2f73fc31-1b0f-4354-9035-7ed7c048499e",
   "metadata": {
    "tags": []
   },
   "outputs": [
    {
     "data": {
      "text/plain": [
       "105881"
      ]
     },
     "execution_count": 47,
     "metadata": {},
     "output_type": "execute_result"
    },
    {
     "data": {
      "text/plain": [
       "{'hi': 'श्री राजनाथ सिंह ने मोबाइल डिवाइस टर्मिनलों से परिपूर्ण आपातकालीन प्रतिक्रिया वाहनों का भी ध्वजारोहण किया।',\n",
       " 'en': 'Shri Rajnath Singh also flagged off Emergency Response Vehicles fitted with mobile device terminals.'}"
      ]
     },
     "execution_count": 47,
     "metadata": {},
     "output_type": "execute_result"
    }
   ],
   "source": [
    "idx = np.random.choice(len(df))\n",
    "idx\n",
    "df.iloc[idx].to_dict()"
   ]
  },
  {
   "cell_type": "code",
   "execution_count": 48,
   "id": "9b17b83c-a1cf-4d3a-9003-7d3e3f492312",
   "metadata": {
    "tags": []
   },
   "outputs": [
    {
     "data": {
      "text/html": [
       "<div>\n",
       "<style scoped>\n",
       "    .dataframe tbody tr th:only-of-type {\n",
       "        vertical-align: middle;\n",
       "    }\n",
       "\n",
       "    .dataframe tbody tr th {\n",
       "        vertical-align: top;\n",
       "    }\n",
       "\n",
       "    .dataframe thead th {\n",
       "        text-align: right;\n",
       "    }\n",
       "</style>\n",
       "<table border=\"1\" class=\"dataframe\">\n",
       "  <thead>\n",
       "    <tr style=\"text-align: right;\">\n",
       "      <th></th>\n",
       "      <th>hi</th>\n",
       "      <th>en</th>\n",
       "    </tr>\n",
       "  </thead>\n",
       "  <tbody>\n",
       "    <tr>\n",
       "      <th>0</th>\n",
       "      <td>प्रधानमंत्री कार्यालय इंडिया टुडे कॉनक्लेव में...</td>\n",
       "      <td>Prime Minister's Office English Rendering of P...</td>\n",
       "    </tr>\n",
       "    <tr>\n",
       "      <th>1</th>\n",
       "      <td>इंडिया टुडे कॉन्क्लेव से जुड़ने का मुझे पहले भ...</td>\n",
       "      <td>Earlier also I had opportunities to associate ...</td>\n",
       "    </tr>\n",
       "    <tr>\n",
       "      <th>2</th>\n",
       "      <td>मुझे बताया गया है कि कल इंडिया टुडे ग्रुप के ए...</td>\n",
       "      <td>I have been told that the Editor in Chief of I...</td>\n",
       "    </tr>\n",
       "    <tr>\n",
       "      <th>3</th>\n",
       "      <td>दोस्तों, अनेक दशकों तक हम गलत नीतियों के साथ ग...</td>\n",
       "      <td>Friends for many decades we have been going in...</td>\n",
       "    </tr>\n",
       "    <tr>\n",
       "      <th>4</th>\n",
       "      <td>सब कुछ सरकार करेगी यह भाव प्रबल हो गया।</td>\n",
       "      <td>The idea that the Government will do everythin...</td>\n",
       "    </tr>\n",
       "    <tr>\n",
       "      <th>...</th>\n",
       "      <td>...</td>\n",
       "      <td>...</td>\n",
       "    </tr>\n",
       "    <tr>\n",
       "      <th>266540</th>\n",
       "      <td>एआरआईआईए मूल्यांकन समिति के चेयरमैन श्री बीवीआ...</td>\n",
       "      <td>As per BVR Mohan Reddy, Chairman, ARIIA evalua...</td>\n",
       "    </tr>\n",
       "    <tr>\n",
       "      <th>266541</th>\n",
       "      <td>एआरआईआईएएक रूपरेखा है जो हमारी शिक्षा प्रणाली ...</td>\n",
       "      <td>ARIIA is a framework that measures this change...</td>\n",
       "    </tr>\n",
       "    <tr>\n",
       "      <th>266542</th>\n",
       "      <td>मानव संसाधन विकास मंत्रालयके नवाचार प्रकोष्ठ क...</td>\n",
       "      <td>Abhay Jere, Chief Innovation Officer, MHRDs In...</td>\n",
       "    </tr>\n",
       "    <tr>\n",
       "      <th>266543</th>\n",
       "      <td>एआरआईआईएरैंकिंग, निश्चित रूप से भारतीय संस्थान...</td>\n",
       "      <td>ARIIA ranking will certainly inspire Indian in...</td>\n",
       "    </tr>\n",
       "    <tr>\n",
       "      <th>266544</th>\n",
       "      <td>पिछले साल, एआरआईआईए2019 के दौरान, 'सार्वजनिक व...</td>\n",
       "      <td>Last year, during ARIIA 2019, top 10 institute...</td>\n",
       "    </tr>\n",
       "  </tbody>\n",
       "</table>\n",
       "<p>266545 rows × 2 columns</p>\n",
       "</div>"
      ],
      "text/plain": [
       "                                                       hi  \\\n",
       "0       प्रधानमंत्री कार्यालय इंडिया टुडे कॉनक्लेव में...   \n",
       "1       इंडिया टुडे कॉन्क्लेव से जुड़ने का मुझे पहले भ...   \n",
       "2       मुझे बताया गया है कि कल इंडिया टुडे ग्रुप के ए...   \n",
       "3       दोस्तों, अनेक दशकों तक हम गलत नीतियों के साथ ग...   \n",
       "4                 सब कुछ सरकार करेगी यह भाव प्रबल हो गया।   \n",
       "...                                                   ...   \n",
       "266540  एआरआईआईए मूल्यांकन समिति के चेयरमैन श्री बीवीआ...   \n",
       "266541  एआरआईआईएएक रूपरेखा है जो हमारी शिक्षा प्रणाली ...   \n",
       "266542  मानव संसाधन विकास मंत्रालयके नवाचार प्रकोष्ठ क...   \n",
       "266543  एआरआईआईएरैंकिंग, निश्चित रूप से भारतीय संस्थान...   \n",
       "266544  पिछले साल, एआरआईआईए2019 के दौरान, 'सार्वजनिक व...   \n",
       "\n",
       "                                                       en  \n",
       "0       Prime Minister's Office English Rendering of P...  \n",
       "1       Earlier also I had opportunities to associate ...  \n",
       "2       I have been told that the Editor in Chief of I...  \n",
       "3       Friends for many decades we have been going in...  \n",
       "4       The idea that the Government will do everythin...  \n",
       "...                                                   ...  \n",
       "266540  As per BVR Mohan Reddy, Chairman, ARIIA evalua...  \n",
       "266541  ARIIA is a framework that measures this change...  \n",
       "266542  Abhay Jere, Chief Innovation Officer, MHRDs In...  \n",
       "266543  ARIIA ranking will certainly inspire Indian in...  \n",
       "266544  Last year, during ARIIA 2019, top 10 institute...  \n",
       "\n",
       "[266545 rows x 2 columns]"
      ]
     },
     "execution_count": 48,
     "metadata": {},
     "output_type": "execute_result"
    }
   ],
   "source": [
    "df"
   ]
  },
  {
   "cell_type": "code",
   "execution_count": 148,
   "id": "54922605-8166-4847-a1b8-d10c87e37ca3",
   "metadata": {
    "tags": []
   },
   "outputs": [],
   "source": [
    "df_train, df_test = train_test_split(df,test_size = 3000)\n",
    "df_test, df_validation = train_test_split(df_test,test_size = 300)"
   ]
  },
  {
   "cell_type": "code",
   "execution_count": 149,
   "id": "802a1bbb-52d4-4894-a9b7-e8a340d53819",
   "metadata": {
    "tags": []
   },
   "outputs": [
    {
     "data": {
      "text/plain": [
       "(263545, 2)"
      ]
     },
     "execution_count": 149,
     "metadata": {},
     "output_type": "execute_result"
    },
    {
     "data": {
      "text/plain": [
       "(300, 2)"
      ]
     },
     "execution_count": 149,
     "metadata": {},
     "output_type": "execute_result"
    },
    {
     "data": {
      "text/plain": [
       "(2700, 2)"
      ]
     },
     "execution_count": 149,
     "metadata": {},
     "output_type": "execute_result"
    }
   ],
   "source": [
    "df_train.shape\n",
    "df_validation.shape\n",
    "df_test.shape"
   ]
  },
  {
   "cell_type": "code",
   "execution_count": 172,
   "id": "ffc6fc66-27f4-4c06-8f21-62e9c6edc4a5",
   "metadata": {
    "tags": []
   },
   "outputs": [
    {
     "name": "stdout",
     "output_type": "stream",
     "text": [
      "DatasetDict({\n",
      "    train: Dataset({\n",
      "        features: ['translation'],\n",
      "        num_rows: 263545\n",
      "    })\n",
      "    validation: Dataset({\n",
      "        features: ['translation'],\n",
      "        num_rows: 300\n",
      "    })\n",
      "    test: Dataset({\n",
      "        features: ['translation'],\n",
      "        num_rows: 2700\n",
      "    })\n",
      "})\n"
     ]
    }
   ],
   "source": [
    "train_ds = Dataset.from_dict({'translation':list(df_train.T.to_dict().values())})\n",
    "validation_ds = Dataset.from_dict({'translation':list(df_validation.T.to_dict().values())})\n",
    "test_ds = Dataset.from_dict({'translation':list(df_test.T.to_dict().values())})\n",
    "\n",
    "\n",
    "ds = DatasetDict()\n",
    "\n",
    "ds['train'] = train_ds\n",
    "ds['validation'] = validation_ds\n",
    "ds['test'] = test_ds\n",
    "\n",
    "print(ds)"
   ]
  },
  {
   "cell_type": "code",
   "execution_count": 173,
   "id": "4d402e24-eec1-42c6-944c-3450525c68f6",
   "metadata": {
    "tags": []
   },
   "outputs": [
    {
     "data": {
      "application/vnd.jupyter.widget-view+json": {
       "model_id": "",
       "version_major": 2,
       "version_minor": 0
      },
      "text/plain": [
       "Saving the dataset (0/1 shards):   0%|          | 0/263545 [00:00<?, ? examples/s]"
      ]
     },
     "metadata": {},
     "output_type": "display_data"
    },
    {
     "data": {
      "application/vnd.jupyter.widget-view+json": {
       "model_id": "",
       "version_major": 2,
       "version_minor": 0
      },
      "text/plain": [
       "Saving the dataset (0/1 shards):   0%|          | 0/300 [00:00<?, ? examples/s]"
      ]
     },
     "metadata": {},
     "output_type": "display_data"
    },
    {
     "data": {
      "application/vnd.jupyter.widget-view+json": {
       "model_id": "",
       "version_major": 2,
       "version_minor": 0
      },
      "text/plain": [
       "Saving the dataset (0/1 shards):   0%|          | 0/2700 [00:00<?, ? examples/s]"
      ]
     },
     "metadata": {},
     "output_type": "display_data"
    }
   ],
   "source": [
    "ds.save_to_disk(\"data/cvit-pib.hf\")"
   ]
  },
  {
   "cell_type": "code",
   "execution_count": 174,
   "id": "0aeb8a9c-a278-4878-9a05-c1c335cd1eb1",
   "metadata": {
    "tags": []
   },
   "outputs": [
    {
     "data": {
      "text/plain": [
       "DatasetDict({\n",
       "    train: Dataset({\n",
       "        features: ['translation'],\n",
       "        num_rows: 263545\n",
       "    })\n",
       "    validation: Dataset({\n",
       "        features: ['translation'],\n",
       "        num_rows: 300\n",
       "    })\n",
       "    test: Dataset({\n",
       "        features: ['translation'],\n",
       "        num_rows: 2700\n",
       "    })\n",
       "})"
      ]
     },
     "execution_count": 174,
     "metadata": {},
     "output_type": "execute_result"
    }
   ],
   "source": [
    "_ds = load_from_disk(\"data/cvit-pib.hf\")\n",
    "\n",
    "_ds"
   ]
  },
  {
   "cell_type": "markdown",
   "id": "43565213-cc24-48a1-a221-af4b53eb0556",
   "metadata": {},
   "source": [
    "# EDA"
   ]
  },
  {
   "cell_type": "code",
   "execution_count": 176,
   "id": "b2beb59b-6314-427d-aba8-47b1c3fe6461",
   "metadata": {
    "tags": []
   },
   "outputs": [],
   "source": [
    "data_params = { 'dataset_path' : ['local',[\"data/cvit-pib.hf\"]],\n",
    "                'tokenizers':{'path_hi':'monsoon-nlp/hindi-bert', 'path_en':'bert-base-uncased'},\n",
    "                'lang' : ('hi','en') #(from-language, to-language)\n",
    "              }"
   ]
  },
  {
   "cell_type": "code",
   "execution_count": 177,
   "id": "65793b25-7395-49b1-bd8d-8ccaec4d2f05",
   "metadata": {
    "tags": []
   },
   "outputs": [],
   "source": [
    "if data_params['dataset_path'][0] == \"local\":\n",
    "    dataset = load_from_disk(*data_params['dataset_path'][1])\n",
    "else:\n",
    "    dataset = load_dataset(*data_params['dataset_path'][1])"
   ]
  },
  {
   "cell_type": "code",
   "execution_count": 178,
   "id": "84f1bff2-5170-478d-8b2c-bd4855dc6161",
   "metadata": {
    "tags": []
   },
   "outputs": [],
   "source": [
    "hi_tokenizer, en_tokenizer = pt.tokenizer.load_tokenizers(**data_params['tokenizers'])"
   ]
  },
  {
   "cell_type": "code",
   "execution_count": 179,
   "id": "72d2ace0-a6d6-470c-b233-f67f967786a2",
   "metadata": {
    "tags": []
   },
   "outputs": [
    {
     "data": {
      "application/vnd.jupyter.widget-view+json": {
       "model_id": "d5dc297aa69f4db8991a7f561da76c27",
       "version_major": 2,
       "version_minor": 0
      },
      "text/plain": [
       "  0%|          | 0/263545 [00:00<?, ?it/s]"
      ]
     },
     "metadata": {},
     "output_type": "display_data"
    },
    {
     "name": "stderr",
     "output_type": "stream",
     "text": [
      "Asking to truncate to max_length but no maximum length is provided and the model has no predefined maximum length. Default to no truncation.\n"
     ]
    }
   ],
   "source": [
    "df = pt.dataset._explore_dataset(dataset['train'], (hi_tokenizer, 'hi'), (en_tokenizer,'en'), csv_len = None)"
   ]
  },
  {
   "cell_type": "code",
   "execution_count": 181,
   "id": "ae93865c-6dad-49ce-8291-470ab384abe5",
   "metadata": {
    "tags": []
   },
   "outputs": [
    {
     "data": {
      "text/html": [
       "<div>\n",
       "<style scoped>\n",
       "    .dataframe tbody tr th:only-of-type {\n",
       "        vertical-align: middle;\n",
       "    }\n",
       "\n",
       "    .dataframe tbody tr th {\n",
       "        vertical-align: top;\n",
       "    }\n",
       "\n",
       "    .dataframe thead th {\n",
       "        text-align: right;\n",
       "    }\n",
       "</style>\n",
       "<table border=\"1\" class=\"dataframe\">\n",
       "  <thead>\n",
       "    <tr style=\"text-align: right;\">\n",
       "      <th></th>\n",
       "      <th>hi</th>\n",
       "      <th>en</th>\n",
       "      <th>hi_en</th>\n",
       "      <th>index</th>\n",
       "    </tr>\n",
       "  </thead>\n",
       "  <tbody>\n",
       "    <tr>\n",
       "      <th>230288</th>\n",
       "      <td>1219</td>\n",
       "      <td>512</td>\n",
       "      <td>1731</td>\n",
       "      <td>230288</td>\n",
       "    </tr>\n",
       "    <tr>\n",
       "      <th>162386</th>\n",
       "      <td>1089</td>\n",
       "      <td>512</td>\n",
       "      <td>1601</td>\n",
       "      <td>162386</td>\n",
       "    </tr>\n",
       "    <tr>\n",
       "      <th>95162</th>\n",
       "      <td>916</td>\n",
       "      <td>512</td>\n",
       "      <td>1428</td>\n",
       "      <td>95162</td>\n",
       "    </tr>\n",
       "    <tr>\n",
       "      <th>252095</th>\n",
       "      <td>770</td>\n",
       "      <td>512</td>\n",
       "      <td>1282</td>\n",
       "      <td>252095</td>\n",
       "    </tr>\n",
       "    <tr>\n",
       "      <th>214960</th>\n",
       "      <td>754</td>\n",
       "      <td>512</td>\n",
       "      <td>1266</td>\n",
       "      <td>214960</td>\n",
       "    </tr>\n",
       "    <tr>\n",
       "      <th>...</th>\n",
       "      <td>...</td>\n",
       "      <td>...</td>\n",
       "      <td>...</td>\n",
       "      <td>...</td>\n",
       "    </tr>\n",
       "    <tr>\n",
       "      <th>88551</th>\n",
       "      <td>4</td>\n",
       "      <td>3</td>\n",
       "      <td>7</td>\n",
       "      <td>88551</td>\n",
       "    </tr>\n",
       "    <tr>\n",
       "      <th>122920</th>\n",
       "      <td>4</td>\n",
       "      <td>3</td>\n",
       "      <td>7</td>\n",
       "      <td>122920</td>\n",
       "    </tr>\n",
       "    <tr>\n",
       "      <th>141737</th>\n",
       "      <td>3</td>\n",
       "      <td>3</td>\n",
       "      <td>6</td>\n",
       "      <td>141737</td>\n",
       "    </tr>\n",
       "    <tr>\n",
       "      <th>237821</th>\n",
       "      <td>3</td>\n",
       "      <td>3</td>\n",
       "      <td>6</td>\n",
       "      <td>237821</td>\n",
       "    </tr>\n",
       "    <tr>\n",
       "      <th>164192</th>\n",
       "      <td>3</td>\n",
       "      <td>3</td>\n",
       "      <td>6</td>\n",
       "      <td>164192</td>\n",
       "    </tr>\n",
       "  </tbody>\n",
       "</table>\n",
       "<p>263545 rows × 4 columns</p>\n",
       "</div>"
      ],
      "text/plain": [
       "          hi   en  hi_en   index\n",
       "230288  1219  512   1731  230288\n",
       "162386  1089  512   1601  162386\n",
       "95162    916  512   1428   95162\n",
       "252095   770  512   1282  252095\n",
       "214960   754  512   1266  214960\n",
       "...      ...  ...    ...     ...\n",
       "88551      4    3      7   88551\n",
       "122920     4    3      7  122920\n",
       "141737     3    3      6  141737\n",
       "237821     3    3      6  237821\n",
       "164192     3    3      6  164192\n",
       "\n",
       "[263545 rows x 4 columns]"
      ]
     },
     "execution_count": 181,
     "metadata": {},
     "output_type": "execute_result"
    }
   ],
   "source": [
    "df"
   ]
  },
  {
   "cell_type": "code",
   "execution_count": 182,
   "id": "9eb771ba-a941-489d-abfc-44ee5ca98976",
   "metadata": {
    "tags": []
   },
   "outputs": [],
   "source": [
    "df['hi_en'] = df.hi + df.en\n",
    "\n",
    "df = df[['hi','en','hi_en']].astype(int)"
   ]
  },
  {
   "cell_type": "code",
   "execution_count": 184,
   "id": "ad6442ad-9a8e-41fd-bb46-7a88c6f7ce8a",
   "metadata": {
    "tags": []
   },
   "outputs": [],
   "source": [
    "df = df.sort_values('hi_en', axis=0, ascending=False)\n",
    "df['index'] = df.index\n",
    "df.to_csv('tmp.csv',index=False)"
   ]
  },
  {
   "cell_type": "code",
   "execution_count": 193,
   "id": "4431eb9e-a85a-4ea3-974f-f15a064da374",
   "metadata": {
    "scrolled": true,
    "tags": []
   },
   "outputs": [
    {
     "data": {
      "text/plain": [
       "{'translation': {'en': 'Piyush Goyal', 'hi': 'पीयूष गोयल'}}"
      ]
     },
     "execution_count": 193,
     "metadata": {},
     "output_type": "execute_result"
    },
    {
     "data": {
      "text/plain": [
       "{'translation': {'en': 'Background:- AKT', 'hi': 'पृष्ठभूमिः'}}"
      ]
     },
     "execution_count": 193,
     "metadata": {},
     "output_type": "execute_result"
    },
    {
     "data": {
      "text/plain": [
       "{'translation': {'en': 'B.S.', 'hi': 'बीएस.'}}"
      ]
     },
     "execution_count": 193,
     "metadata": {},
     "output_type": "execute_result"
    },
    {
     "data": {
      "text/plain": [
       "{'translation': {'en': 'Will you do it', 'hi': 'करोगे?'}}"
      ]
     },
     "execution_count": 193,
     "metadata": {},
     "output_type": "execute_result"
    },
    {
     "data": {
      "text/plain": [
       "{'translation': {'en': 'Om Shanti.', 'hi': 'ओम शांति'}}"
      ]
     },
     "execution_count": 193,
     "metadata": {},
     "output_type": "execute_result"
    },
    {
     "data": {
      "text/plain": [
       "{'translation': {'en': 'Namaskaar.', 'hi': 'नमस्कार।'}}"
      ]
     },
     "execution_count": 193,
     "metadata": {},
     "output_type": "execute_result"
    },
    {
     "data": {
      "text/plain": [
       "{'translation': {'en': 'Ministry of Home Affairs', 'hi': 'गृह मंत्रालय'}}"
      ]
     },
     "execution_count": 193,
     "metadata": {},
     "output_type": "execute_result"
    },
    {
     "data": {
      "text/plain": [
       "{'translation': {'en': 'Source:  SD', 'hi': 'स्रोत:'}}"
      ]
     },
     "execution_count": 193,
     "metadata": {},
     "output_type": "execute_result"
    },
    {
     "data": {
      "text/plain": [
       "{'translation': {'en': '2002 crore.', 'hi': 'है ।'}}"
      ]
     },
     "execution_count": 193,
     "metadata": {},
     "output_type": "execute_result"
    },
    {
     "data": {
      "text/plain": [
       "{'translation': {'en': '28 Nil', 'hi': '28 शून्य'}}"
      ]
     },
     "execution_count": 193,
     "metadata": {},
     "output_type": "execute_result"
    },
    {
     "data": {
      "text/plain": [
       "{'translation': {'en': 'Gen.', 'hi': 'ले.'}}"
      ]
     },
     "execution_count": 193,
     "metadata": {},
     "output_type": "execute_result"
    },
    {
     "data": {
      "text/plain": [
       "{'translation': {'en': 'Major Impact', 'hi': 'प्रमुख प्रभाव'}}"
      ]
     },
     "execution_count": 193,
     "metadata": {},
     "output_type": "execute_result"
    },
    {
     "data": {
      "text/plain": [
       "{'translation': {'en': 'How many', 'hi': 'कितने?'}}"
      ]
     },
     "execution_count": 193,
     "metadata": {},
     "output_type": "execute_result"
    },
    {
     "data": {
      "text/plain": [
       "{'translation': {'en': 'C.', 'hi': 'सी.'}}"
      ]
     },
     "execution_count": 193,
     "metadata": {},
     "output_type": "execute_result"
    },
    {
     "data": {
      "text/plain": [
       "{'translation': {'en': 'c.', 'hi': 'ग.'}}"
      ]
     },
     "execution_count": 193,
     "metadata": {},
     "output_type": "execute_result"
    },
    {
     "data": {
      "text/plain": [
       "{'translation': {'en': 'C.', 'hi': 'ग.'}}"
      ]
     },
     "execution_count": 193,
     "metadata": {},
     "output_type": "execute_result"
    },
    {
     "data": {
      "text/plain": [
       "{'translation': {'en': 'Nil', 'hi': 'कुछ नहीं'}}"
      ]
     },
     "execution_count": 193,
     "metadata": {},
     "output_type": "execute_result"
    },
    {
     "data": {
      "text/plain": [
       "{'translation': {'en': 'Md.', 'hi': 'मो.'}}"
      ]
     },
     "execution_count": 193,
     "metadata": {},
     "output_type": "execute_result"
    },
    {
     "data": {
      "text/plain": [
       "{'translation': {'en': '19.', 'hi': 'डी.'}}"
      ]
     },
     "execution_count": 193,
     "metadata": {},
     "output_type": "execute_result"
    },
    {
     "data": {
      "text/plain": [
       "{'translation': {'en': 'g.', 'hi': 'छ.'}}"
      ]
     },
     "execution_count": 193,
     "metadata": {},
     "output_type": "execute_result"
    },
    {
     "data": {
      "text/plain": [
       "{'translation': {'en': 'D.', 'hi': 'डी.'}}"
      ]
     },
     "execution_count": 193,
     "metadata": {},
     "output_type": "execute_result"
    },
    {
     "data": {
      "text/plain": [
       "{'translation': {'en': 'NO.', 'hi': 'नहीं।'}}"
      ]
     },
     "execution_count": 193,
     "metadata": {},
     "output_type": "execute_result"
    },
    {
     "data": {
      "text/plain": [
       "{'translation': {'en': 'Y.', 'hi': 'वाई.'}}"
      ]
     },
     "execution_count": 193,
     "metadata": {},
     "output_type": "execute_result"
    },
    {
     "data": {
      "text/plain": [
       "{'translation': {'en': 'd.', 'hi': 'घ.'}}"
      ]
     },
     "execution_count": 193,
     "metadata": {},
     "output_type": "execute_result"
    },
    {
     "data": {
      "text/plain": [
       "{'translation': {'en': 'Jammu  Kashmir', 'hi': 'जम्मू  कश्मीर'}}"
      ]
     },
     "execution_count": 193,
     "metadata": {},
     "output_type": "execute_result"
    },
    {
     "data": {
      "text/plain": [
       "{'translation': {'en': 'Friends.', 'hi': 'दोस्तों।'}}"
      ]
     },
     "execution_count": 193,
     "metadata": {},
     "output_type": "execute_result"
    },
    {
     "data": {
      "text/plain": [
       "{'translation': {'en': 'Implementation:', 'hi': 'कार्यान्वयन:'}}"
      ]
     },
     "execution_count": 193,
     "metadata": {},
     "output_type": "execute_result"
    },
    {
     "data": {
      "text/plain": [
       "{'translation': {'en': 'Background AKT', 'hi': 'पृष्ठभूमि'}}"
      ]
     },
     "execution_count": 193,
     "metadata": {},
     "output_type": "execute_result"
    },
    {
     "data": {
      "text/plain": [
       "{'translation': {'en': 'Prosperity.', 'hi': 'समृद्धि।'}}"
      ]
     },
     "execution_count": 193,
     "metadata": {},
     "output_type": "execute_result"
    },
    {
     "data": {
      "text/plain": [
       "{'translation': {'en': 'Gazette Notification', 'hi': 'गजट अधिसूचना'}}"
      ]
     },
     "execution_count": 193,
     "metadata": {},
     "output_type": "execute_result"
    },
    {
     "data": {
      "text/plain": [
       "{'translation': {'en': 'd.', 'hi': 'डी.'}}"
      ]
     },
     "execution_count": 193,
     "metadata": {},
     "output_type": "execute_result"
    },
    {
     "data": {
      "text/plain": [
       "{'translation': {'en': 'Prof.', 'hi': 'प्रो.'}}"
      ]
     },
     "execution_count": 193,
     "metadata": {},
     "output_type": "execute_result"
    },
    {
     "data": {
      "text/plain": [
       "{'translation': {'en': 'Good Evening', 'hi': 'शुभ संध्या'}}"
      ]
     },
     "execution_count": 193,
     "metadata": {},
     "output_type": "execute_result"
    },
    {
     "data": {
      "text/plain": [
       "{'translation': {'en': 'Links:', 'hi': 'लिंक्स:'}}"
      ]
     },
     "execution_count": 193,
     "metadata": {},
     "output_type": "execute_result"
    },
    {
     "data": {
      "text/plain": [
       "{'translation': {'en': 'I.', 'hi': 'आई.'}}"
      ]
     },
     "execution_count": 193,
     "metadata": {},
     "output_type": "execute_result"
    },
    {
     "data": {
      "text/plain": [
       "{'translation': {'en': 'e.', 'hi': 'च.'}}"
      ]
     },
     "execution_count": 193,
     "metadata": {},
     "output_type": "execute_result"
    },
    {
     "data": {
      "text/plain": [
       "{'translation': {'en': 'Dream', 'hi': 'सपने देखो'}}"
      ]
     },
     "execution_count": 193,
     "metadata": {},
     "output_type": "execute_result"
    },
    {
     "data": {
      "text/plain": [
       "{'translation': {'en': 'Background  AP', 'hi': 'पृष्ठभूमि'}}"
      ]
     },
     "execution_count": 193,
     "metadata": {},
     "output_type": "execute_result"
    },
    {
     "data": {
      "text/plain": [
       "{'translation': {'en': 'MV', 'hi': 'एबी-'}}"
      ]
     },
     "execution_count": 193,
     "metadata": {},
     "output_type": "execute_result"
    },
    {
     "data": {
      "text/plain": [
       "{'translation': {'en': 'Sure', 'hi': 'पक्का।'}}"
      ]
     },
     "execution_count": 193,
     "metadata": {},
     "output_type": "execute_result"
    },
    {
     "data": {
      "text/plain": [
       "{'translation': {'en': 'Om', 'hi': 'ओम'}}"
      ]
     },
     "execution_count": 193,
     "metadata": {},
     "output_type": "execute_result"
    },
    {
     "data": {
      "text/plain": [
       "{'translation': {'en': 'Great', 'hi': 'वाह'}}"
      ]
     },
     "execution_count": 193,
     "metadata": {},
     "output_type": "execute_result"
    },
    {
     "data": {
      "text/plain": [
       "{'translation': {'en': 'SS', 'hi': 'पृष्ठभूमि'}}"
      ]
     },
     "execution_count": 193,
     "metadata": {},
     "output_type": "execute_result"
    }
   ],
   "source": [
    "for i in df[df['hi']<5].index:\n",
    "    dataset['train'][i]"
   ]
  },
  {
   "cell_type": "code",
   "execution_count": 220,
   "id": "3b5ba3b3-f48f-4b02-92b9-2ff73f5993d1",
   "metadata": {
    "tags": []
   },
   "outputs": [
    {
     "data": {
      "text/html": [
       "<div>\n",
       "<style scoped>\n",
       "    .dataframe tbody tr th:only-of-type {\n",
       "        vertical-align: middle;\n",
       "    }\n",
       "\n",
       "    .dataframe tbody tr th {\n",
       "        vertical-align: top;\n",
       "    }\n",
       "\n",
       "    .dataframe thead th {\n",
       "        text-align: right;\n",
       "    }\n",
       "</style>\n",
       "<table border=\"1\" class=\"dataframe\">\n",
       "  <thead>\n",
       "    <tr style=\"text-align: right;\">\n",
       "      <th></th>\n",
       "      <th>hi</th>\n",
       "      <th>en</th>\n",
       "      <th>hi_en</th>\n",
       "      <th>index</th>\n",
       "    </tr>\n",
       "  </thead>\n",
       "  <tbody>\n",
       "    <tr>\n",
       "      <th>134208</th>\n",
       "      <td>41</td>\n",
       "      <td>41</td>\n",
       "      <td>82</td>\n",
       "      <td>134208</td>\n",
       "    </tr>\n",
       "    <tr>\n",
       "      <th>194926</th>\n",
       "      <td>41</td>\n",
       "      <td>41</td>\n",
       "      <td>82</td>\n",
       "      <td>194926</td>\n",
       "    </tr>\n",
       "    <tr>\n",
       "      <th>248040</th>\n",
       "      <td>41</td>\n",
       "      <td>41</td>\n",
       "      <td>82</td>\n",
       "      <td>248040</td>\n",
       "    </tr>\n",
       "    <tr>\n",
       "      <th>127833</th>\n",
       "      <td>41</td>\n",
       "      <td>41</td>\n",
       "      <td>82</td>\n",
       "      <td>127833</td>\n",
       "    </tr>\n",
       "    <tr>\n",
       "      <th>119498</th>\n",
       "      <td>41</td>\n",
       "      <td>41</td>\n",
       "      <td>82</td>\n",
       "      <td>119498</td>\n",
       "    </tr>\n",
       "    <tr>\n",
       "      <th>...</th>\n",
       "      <td>...</td>\n",
       "      <td>...</td>\n",
       "      <td>...</td>\n",
       "      <td>...</td>\n",
       "    </tr>\n",
       "    <tr>\n",
       "      <th>88551</th>\n",
       "      <td>4</td>\n",
       "      <td>3</td>\n",
       "      <td>7</td>\n",
       "      <td>88551</td>\n",
       "    </tr>\n",
       "    <tr>\n",
       "      <th>122920</th>\n",
       "      <td>4</td>\n",
       "      <td>3</td>\n",
       "      <td>7</td>\n",
       "      <td>122920</td>\n",
       "    </tr>\n",
       "    <tr>\n",
       "      <th>141737</th>\n",
       "      <td>3</td>\n",
       "      <td>3</td>\n",
       "      <td>6</td>\n",
       "      <td>141737</td>\n",
       "    </tr>\n",
       "    <tr>\n",
       "      <th>237821</th>\n",
       "      <td>3</td>\n",
       "      <td>3</td>\n",
       "      <td>6</td>\n",
       "      <td>237821</td>\n",
       "    </tr>\n",
       "    <tr>\n",
       "      <th>164192</th>\n",
       "      <td>3</td>\n",
       "      <td>3</td>\n",
       "      <td>6</td>\n",
       "      <td>164192</td>\n",
       "    </tr>\n",
       "  </tbody>\n",
       "</table>\n",
       "<p>174503 rows × 4 columns</p>\n",
       "</div>"
      ],
      "text/plain": [
       "        hi  en  hi_en   index\n",
       "134208  41  41     82  134208\n",
       "194926  41  41     82  194926\n",
       "248040  41  41     82  248040\n",
       "127833  41  41     82  127833\n",
       "119498  41  41     82  119498\n",
       "...     ..  ..    ...     ...\n",
       "88551    4   3      7   88551\n",
       "122920   4   3      7  122920\n",
       "141737   3   3      6  141737\n",
       "237821   3   3      6  237821\n",
       "164192   3   3      6  164192\n",
       "\n",
       "[174503 rows x 4 columns]"
      ]
     },
     "execution_count": 220,
     "metadata": {},
     "output_type": "execute_result"
    }
   ],
   "source": [
    "maxlen=84\n",
    "df[(df.hi<maxlen//2) & (df.en<maxlen//2)]"
   ]
  },
  {
   "cell_type": "code",
   "execution_count": 201,
   "id": "8230c509-e5c2-408e-a739-88cd2ee7035b",
   "metadata": {
    "tags": []
   },
   "outputs": [
    {
     "data": {
      "text/plain": [
       "(array([2.60533e+05, 2.77100e+03, 1.88000e+02, 3.40000e+01, 9.00000e+00,\n",
       "        5.00000e+00, 2.00000e+00, 1.00000e+00, 1.00000e+00, 1.00000e+00]),\n",
       " array([   3. ,  124.6,  246.2,  367.8,  489.4,  611. ,  732.6,  854.2,\n",
       "         975.8, 1097.4, 1219. ]),\n",
       " <BarContainer object of 10 artists>)"
      ]
     },
     "execution_count": 201,
     "metadata": {},
     "output_type": "execute_result"
    },
    {
     "data": {
      "image/png": "[encoded data removed]",
      "text/plain": [
       "<Figure size 640x480 with 1 Axes>"
      ]
     },
     "metadata": {},
     "output_type": "display_data"
    }
   ],
   "source": [
    "plt.hist(df.hi)"
   ]
  },
  {
   "cell_type": "code",
   "execution_count": 199,
   "id": "8023b608-801f-49d9-9118-b735a36d40d8",
   "metadata": {
    "tags": []
   },
   "outputs": [
    {
     "data": {
      "text/plain": [
       "{'translation': {'en': 'The State wise potential, that is eligible population that can be covered under APY, and gender wise distribution of population as on 27th Oct 2018 is given below: S.No STATE POPULATION BETWEEN AGE GROUP 18 TO 40 Number of APY Subscribers as on 27.10.2016 Percentage of Population Covered under APY Total Female Subscribers Percentage of Female Subscribers Total Male Subscibers Percentage of Male Subscribers Total Transgender Subscribers Percentage of Transgender Subscribers Total 1 ANDAMAN  NICOBAR ISLANDS 168,753 1,856 1 715 39 1,141 61 0 0 1,856 2 ANDHRA PRADESH  TELANGANA 34,832,527 1,128,032 3 565,804 50 561,843 50 385 0 1,128,032 3 ARUNACHAL PRADESH 542,212 4,507 1 1,936 43 2,571 57 0 0 4,507 4 ASSAM 12,291,862 250,783 2 109,481 44 141,259 56 43 0 250,783 5 BIHAR 35,484,731 1,116,119 3 559,297 50 556,707 50 115 0 1,116,119 6 CHANDIGARH 473,489 19,408 4 6,383 33 13,023 67 2 0 19,408 7 CHHATTISGARH 9,675,449 194,442 2 77,620 40 116,810 60 12 0 194,442 8 DADRA  NAGAR HAVELI 161,941 6,689 4 1,350 20 5,337 80 2 0 6,689 9 DAMAN  DIU 134,502 4,697 3 735 16 3,962 84 0 0 4,697 10 DELHI 7,266,256 205,759 3 67,330 33 138,376 67 53 0 205,759 11 GOA 595,087 28,951 5 10,480 36 18,468 64 3 0 28,951 12 GUJARAT 23,827,045 591,045 2 179,603 30 411,318 70 124 0 591,045 13 HARYANA 10,104,539 278,199 3 75,688 27 202,460 73 51 0 278,199 14 HIMACHAL PRADESH 2,685,526 79,964 3 27,241 34 52,711 66 12 0 79,964 15 JAMMU  KASHMIR 4,775,045 47,614 1 12,025 25 35,551 75 38 0 47,614 16 JHARKHAND 11,967,910 258,688 2 128,426 50 130,239 50 23 0 258,688 17 KARNATAKA 25,359,036 915,260 4 389,509 43 525,564 57 187 0 915,260 18 KERALA 11,943,218 276,115 2 151,103 55 124,961 45 51 0 276,115 19 LAKSHADWEEP 25,877 295 1 80 27 215 73 0 0 295 20 MADHYA PRADESH 27,234,721 662,515 2 226,775 34 435,630 66 110 0 662,515 21 MAHARASHTRA 45,274,703 1,000,604 2 354,301 35 646,088 65 215 0 1,000,604 22 MANIPUR 1,140,447 8,031 1 3,833 48 4,198 52 0 0 8,031 23 MEGHALAYA 1,068,987 9,049 1 3,705 41 5,344 59 0 0 9,049 24 MIORAM 432,946 5,798 1 3,089 53 2,709 47 0 0 5,798 25 NAGALAND 783,664 7,214 1 2,986 41 4,228 59 0 0 7,214 26 ODISHA 16,118,865 398,416 2 161,799 41 236,501 59 116 0 398,416 27 PUDUCHERRY 512,040 23,991 5 12,601 53 11,381 47 9 0 23,991 28 PUNJAB 11,134,889 381,405 3 120,374 32 261,003 68 28 0 381,405 29 RAJASTHAN 25,277,598 569,052 2 173,965 31 394,957 69 130 0 569,052 30 SIKKIM 264,461 6,828 3 2,606 38 4,221 62 1 0 6,828 31 TAMIL NADU 29,069,600 968,372 3 529,395 55 438,679 45 298 0 968,372 32 TRIPURA 1,503,503 28,786 2 12,544 44 16,240 56 2 0 28,786 33 UTTAR PRADESH 71,289,176 1,790,481 3 594,235 33 1,195,808 67 438 0 1,790,481 34 UTTARAKHAND 3,810,712 122,871 3 40,855 33 81,997 67 19 0 122,871 35 WEST BENGAL 36,688,732 709,869 2 324,163 46 385,522 54 184 0 709,869 TOTAL 463,920,049 12,101,705 3 4,932,032 41 7,167,022 59 2,651 0 12,101,705',\n",
       "  'hi': 'राज्य वार संभावनाओं अर्थात अटल पेंशन योजना के दायरे में आ सकने वाले पात्र लोगों के साथ-साथ आबादी के अंतर्गत महिला-पुरुष वार वितरण का उल्लेख निम्नलिखित तालिका में किया गया है (27 अक्टूबर, 2018 तक की स्थिति) : क्र.सं. राज्य 18 से 40 वर्ष के आयु समूह के अंतर्गत आने वाली आबादी 27.10.2016 को एपीवाई सदस्यों की संख्या एपीवाई के तहत कवर होने वाली आबादी का प्रतिशत कुल महिला सदस्य महिला सदस्यों का प्रतिशत कुल पुरुष सदस्य पुरुष सदस्यों का प्रतिशत कुल अन्य (थर्ड जेंडर) सदस्य अन्य (थर्ड जेंडर) सदस्यों का प्रतिशत कुल 1 अंडमान एवं निकोबार द्वीप समूह 168,753 1,856 1 715 39 1,141 61 0 0 1,856 2 आंध्र प्रदेश एवं तेलंगाना 34,832,527 1,128,032 3 565,804 50 561,843 50 385 0 1,128,032 3 अरुणाचल प्रदेश 542,212 4,507 1 1,936 43 2,571 57 0 0 4,507 4 असम 12,291,862 250,783 2 109,481 44 141,259 56 43 0 250,783 5 बिहार 35,484,731 1,116,119 3 559,297 50 556,707 50 115 0 1,116,119 6 चंडीगढ़ 473,489 19,408 4 6,383 33 13,023 67 2 0 19,408 7 छत्तीसगढ़ 9,675,449 194,442 2 77,620 40 116,810 60 12 0 194,442 8 दादर और नगर हवेली I 161,941 6,689 4 1,350 20 5,337 80 2 0 6,689 9 दमन और दीव 134,502 4,697 3 735 16 3,962 84 0 0 4,697 10 दिल्ली 7,266,256 205,759 3 67,330 33 138,376 67 53 0 205,759 11 गोवा 595,087 28,951 5 10,480 36 18,468 64 3 0 28,951 12 गुजरात 23,827,045 591,045 2 179,603 30 411,318 70 124 0 591,045 13 हरियाणा 10,104,539 278,199 3 75,688 27 202,460 73 51 0 278,199 14 हिमालच प्रदेश 2,685,526 79,964 3 27,241 34 52,711 66 12 0 79,964 15 जम्मू  कश्मीर 4,775,045 47,614 1 12,025 25 35,551 75 38 0 47,614 16 झारखंड 11,967,910 258,688 2 128,426 50 130,239 50 23 0 258,688 17 कर्नाटक 25,359,036 915,260 4 389,509 43 525,564 57 187 0 915,260 18 केरल 11,943,218 276,115 2 151,103 55 124,961 45 51 0 276,115 19 लक्षद्वीप 25,877 295 1 80 27 215 73 0 0 295 20 मध्य प्रदेश 27,234,721 662,515 2 226,775 34 435,630 66 110 0 662,515 21 महाराष्ट्र 45,274,703 1,000,604 2 354,301 35 646,088 65 215 0 1,000,604 22 मणिपुर 1,140,447 8,031 1 3,833 48 4,198 52 0 0 8,031 23 मेघालय 1,068,987 9,049 1 3,705 41 5,344 59 0 0 9,049 24 मिजोरम 432,946 5,798 1 3,089 53 2,709 47 0 0 5,798 25 नगालैंड 783,664 7,214 1 2,986 41 4,228 59 0 0 7,214 26 ओडिशा 16,118,865 398,416 2 161,799 41 236,501 59 116 0 398,416 27 पुडुचेरी 512,040 23,991 5 12,601 53 11,381 47 9 0 23,991 28 पंजाब 11,134,889 381,405 3 120,374 32 261,003 68 28 0 381,405 29 राजस्थान 25,277,598 569,052 2 173,965 31 394,957 69 130 0 569,052 30 सिक्किम 264,461 6,828 3 2,606 38 4,221 62 1 0 6,828 31 तमिलनाडु 29,069,600 968,372 3 529,395 55 438,679 45 298 0 968,372 32 त्रिपुरा 1,503,503 28,786 2 12,544 44 16,240 56 2 0 28,786 33 उत्तर प्रदेश 71,289,176 1,790,481 3 594,235 33 1,195,808 67 438 0 1,790,481 34 उत्तराखंड 3,810,712 122,871 3 40,855 33 81,997 67 19 0 122,871 35 पश्चिम बंगाल 36,688,732 709,869 2 324,163 46 385,522 54 184 0 709,869 कुल 463,920,049 12,101,705 3 4,932,032 41 7,167,022 59 2,651 0 12,101,705'}}"
      ]
     },
     "execution_count": 199,
     "metadata": {},
     "output_type": "execute_result"
    }
   ],
   "source": [
    "dataset['train'][230288]"
   ]
  },
  {
   "cell_type": "code",
   "execution_count": null,
   "id": "e39deff8-4500-4244-9936-4a19c5b952fa",
   "metadata": {},
   "outputs": [],
   "source": []
  }
 ],
 "metadata": {
  "kernelspec": {
   "display_name": "Python 3 (ipykernel)",
   "language": "python",
   "name": "python3"
  },
  "language_info": {
   "codemirror_mode": {
    "name": "ipython",
    "version": 3
   },
   "file_extension": ".py",
   "mimetype": "text/x-python",
   "name": "python",
   "nbconvert_exporter": "python",
   "pygments_lexer": "ipython3",
   "version": "3.7.17"
  }
 },
 "nbformat": 4,
 "nbformat_minor": 5
}
